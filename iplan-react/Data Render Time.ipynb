{
 "cells": [
  {
   "cell_type": "markdown",
   "id": "3e32ae3e",
   "metadata": {},
   "source": [
    "## Flask"
   ]
  },
  {
   "cell_type": "code",
   "execution_count": 1,
   "id": "a07a5a08",
   "metadata": {},
   "outputs": [
    {
     "name": "stderr",
     "output_type": "stream",
     "text": [
      "C:\\Users\\nasreenn\\AppData\\Local\\anaconda3\\lib\\site-packages\\pandas\\core\\arrays\\masked.py:60: UserWarning: Pandas requires version '1.3.6' or newer of 'bottleneck' (version '1.3.5' currently installed).\n",
      "  from pandas.core import (\n"
     ]
    }
   ],
   "source": [
    "# Importing Libraries\n",
    "import os\n",
    "import sys\n",
    "import pyodbc\n",
    "import warnings\n",
    "import pythoncom\n",
    "import time\n",
    "import numpy as np\n",
    "import pandas as pd\n",
    "from flask import * \n",
    "from distutils.log import debug\n",
    "import win32com.client as win32\n",
    "warnings.filterwarnings('ignore')\n",
    "from werkzeug.utils import secure_filename\n",
    "from dateutil.relativedelta import relativedelta"
   ]
  },
  {
   "cell_type": "code",
   "execution_count": 2,
   "id": "a326e3d6",
   "metadata": {},
   "outputs": [],
   "source": [
    "app = Flask(__name__)"
   ]
  },
  {
   "cell_type": "code",
   "execution_count": 3,
   "id": "a726a67a",
   "metadata": {},
   "outputs": [],
   "source": [
    "# Route 1: For Index page\n",
    "@app.route('/')  \n",
    "def main():  \n",
    "    return render_template(\"index_flask.html\")"
   ]
  },
  {
   "cell_type": "code",
   "execution_count": 4,
   "id": "63d76496",
   "metadata": {},
   "outputs": [],
   "source": [
    "def success2():\n",
    "    DB = {'servername': 'AW02PSQLC007',\n",
    "          'database': 'India_GTSG'}\n",
    "    conn = pyodbc.connect('DRIVER={SQL Server}; SERVER=' + DB['servername'] + ';DATABASE=' + DB['database'] + ';Trusted_Connection=yes')\n",
    "    start_time = time.time()\n",
    "\n",
    "    # Query the database\n",
    "    cursor = conn.cursor()\n",
    "    cursor.execute(\"SELECT * FROM [India_GTSG].[dbo].[RFT_P6]\")\n",
    "    data = cursor.fetchall()\n",
    "    conn.close()\n",
    "\n",
    "    end_time = time.time()\n",
    "    return {\"rows_loaded\": len(data), \"time_taken\": end_time - start_time}\n",
    "\n",
    "# Route 1: For Index page\n",
    "@app.route('/transfer', methods=['GET', 'POST'])\n",
    "def transfer():\n",
    "    message = None\n",
    "    if request.method == 'POST':\n",
    "        # Call success2 and pass the result to the template\n",
    "        result = success2()\n",
    "        message = f\"Rows Loaded: {result['rows_loaded']}, Time Taken: {result['time_taken']:.2f} seconds\"\n",
    "    return render_template(\"index.html\", message=message)"
   ]
  },
  {
   "cell_type": "code",
   "execution_count": 5,
   "id": "4d786eaf",
   "metadata": {},
   "outputs": [
    {
     "name": "stdout",
     "output_type": "stream",
     "text": [
      " * Serving Flask app '__main__'\n",
      " * Debug mode: on\n"
     ]
    },
    {
     "name": "stderr",
     "output_type": "stream",
     "text": [
      "WARNING: This is a development server. Do not use it in a production deployment. Use a production WSGI server instead.\n",
      " * Running on all addresses (0.0.0.0)\n",
      " * Running on http://127.0.0.1:8443\n",
      " * Running on http://10.150.68.89:8443\n",
      "Press CTRL+C to quit\n"
     ]
    }
   ],
   "source": [
    "app.run(host = \"0.0.0.0\",port=8443, debug=True, use_reloader=False)"
   ]
  },
  {
   "cell_type": "markdown",
   "id": "dab25110",
   "metadata": {},
   "source": [
    "## FastAPI"
   ]
  },
  {
   "cell_type": "code",
   "execution_count": 3,
   "id": "d8a60ece",
   "metadata": {},
   "outputs": [],
   "source": [
    "import time\n",
    "from fastapi import FastAPI\n",
    "import pyodbc\n",
    "from typing import List"
   ]
  },
  {
   "cell_type": "code",
   "execution_count": 4,
   "id": "bdb4cabf",
   "metadata": {},
   "outputs": [],
   "source": [
    "from fastapi import FastAPI\n",
    "from fastapi.templating import Jinja2Templates\n",
    "from fastapi.responses import HTMLResponse\n",
    "from starlette.requests import Request"
   ]
  },
  {
   "cell_type": "code",
   "execution_count": 5,
   "id": "8d7bbf27",
   "metadata": {},
   "outputs": [],
   "source": [
    "app = FastAPI()"
   ]
  },
  {
   "cell_type": "code",
   "execution_count": 6,
   "id": "6df800a4",
   "metadata": {},
   "outputs": [],
   "source": [
    "templates = Jinja2Templates(directory=\"templates\")"
   ]
  },
  {
   "cell_type": "code",
   "execution_count": 13,
   "id": "2456a41d",
   "metadata": {},
   "outputs": [],
   "source": [
    "@app.get(\"/\", response_class=HTMLResponse)\n",
    "async def main(request: Request):\n",
    "    return templates.TemplateResponse(\"index.html\", {\"request\": request})"
   ]
  },
  {
   "cell_type": "code",
   "execution_count": 14,
   "id": "fff0f3ed",
   "metadata": {},
   "outputs": [],
   "source": [
    "def success2():\n",
    "    DB = {'servername': 'AW02PSQLC007',\n",
    "          'database': 'India_GTSG'}\n",
    "    conn = pyodbc.connect('DRIVER={SQL Server}; SERVER=' + DB['servername'] + ';DATABASE=' + DB['database'] + ';Trusted_Connection=yes')\n",
    "    start_time = time.time()\n",
    "\n",
    "    # Query the database\n",
    "    cursor = conn.cursor()\n",
    "    cursor.execute(\"SELECT * FROM [India_GTSG].[dbo].[RFT_P6]\")\n",
    "    data = cursor.fetchall()\n",
    "    conn.close()\n",
    "\n",
    "    end_time = time.time()\n",
    "    return {\"rows_loaded\": len(data), \"time_taken\": end_time - start_time}\n",
    "\n",
    "# Route for transfer (index page)\n",
    "@app.get(\"/transfer\", response_class=HTMLResponse)\n",
    "async def transfer(request: Request):\n",
    "    return templates.TemplateResponse(\"index.html\", {\"request\": request, \"message\": None})\n",
    "\n",
    "@app.post(\"/transfer\", response_class=HTMLResponse)\n",
    "async def transfer_post(request: Request):\n",
    "    result = success2()\n",
    "    message = f\"Rows Loaded: {result['rows_loaded']}, Time Taken: {result['time_taken']:.2f} seconds\"\n",
    "    return templates.TemplateResponse(\"index.html\", {\"request\": request, \"message\": message})"
   ]
  },
  {
   "cell_type": "code",
   "execution_count": 15,
   "id": "ff21d265",
   "metadata": {
    "scrolled": true
   },
   "outputs": [
    {
     "name": "stderr",
     "output_type": "stream",
     "text": [
      "INFO:     Started server process [9312]\n",
      "INFO:     Waiting for application startup.\n",
      "INFO:     Application startup complete.\n",
      "INFO:     Uvicorn running on http://127.0.0.1:8000 (Press CTRL+C to quit)\n"
     ]
    },
    {
     "name": "stdout",
     "output_type": "stream",
     "text": [
      "INFO:     127.0.0.1:57945 - \"GET / HTTP/1.1\" 200 OK\n",
      "INFO:     127.0.0.1:57945 - \"POST /transfer HTTP/1.1\" 200 OK\n"
     ]
    },
    {
     "name": "stderr",
     "output_type": "stream",
     "text": [
      "INFO:     Shutting down\n",
      "INFO:     Waiting for application shutdown.\n",
      "INFO:     Application shutdown complete.\n",
      "INFO:     Finished server process [9312]\n"
     ]
    }
   ],
   "source": [
    "import nest_asyncio\n",
    "import uvicorn\n",
    "\n",
    "if __name__ == \"__main__\":\n",
    "    nest_asyncio.apply()\n",
    "    uvicorn.run(app)"
   ]
  },
  {
   "cell_type": "markdown",
   "id": "3999eb12",
   "metadata": {},
   "source": [
    "## Django"
   ]
  },
  {
   "cell_type": "code",
   "execution_count": null,
   "id": "8640c505",
   "metadata": {},
   "outputs": [],
   "source": []
  },
  {
   "cell_type": "code",
   "execution_count": 16,
   "id": "9da353d3",
   "metadata": {},
   "outputs": [],
   "source": [
    "from django.shortcuts import render\n",
    "import pyodbc\n",
    "import time"
   ]
  },
  {
   "cell_type": "code",
   "execution_count": 17,
   "id": "f060c626",
   "metadata": {},
   "outputs": [],
   "source": [
    "def success2():\n",
    "    DB = {'servername': 'AW02PSQLC007',\n",
    "          'database': 'India_GTSG'}\n",
    "    conn = pyodbc.connect('DRIVER={SQL Server}; SERVER=' + DB['servername'] + ';DATABASE=' + DB['database'] + ';Trusted_Connection=yes')\n",
    "    start_time = time.time()\n",
    "\n",
    "    # Query the database\n",
    "    cursor = conn.cursor()\n",
    "    cursor.execute(\"SELECT * FROM [India_GTSG].[dbo].[RFT_P6]\")\n",
    "    data = cursor.fetchall()\n",
    "    conn.close()\n",
    "\n",
    "    end_time = time.time()\n",
    "    return {\"rows_loaded\": len(data), \"time_taken\": end_time - start_time}\n",
    "\n",
    "def transfer(request):\n",
    "    message = None\n",
    "    if request.method == 'POST':\n",
    "        result = success2()\n",
    "        message = f\"Rows Loaded: {result['rows_loaded']}, Time Taken: {result['time_taken']:.2f} seconds\"\n",
    "    return render(request, 'index.html', {'message': message})\n"
   ]
  },
  {
   "cell_type": "code",
   "execution_count": null,
   "id": "6d3a40b1",
   "metadata": {},
   "outputs": [],
   "source": []
  },
  {
   "cell_type": "code",
   "execution_count": null,
   "id": "9c2f423a",
   "metadata": {},
   "outputs": [],
   "source": []
  }
 ],
 "metadata": {
  "kernelspec": {
   "display_name": "Python 3 (ipykernel)",
   "language": "python",
   "name": "python3"
  },
  "language_info": {
   "codemirror_mode": {
    "name": "ipython",
    "version": 3
   },
   "file_extension": ".py",
   "mimetype": "text/x-python",
   "name": "python",
   "nbconvert_exporter": "python",
   "pygments_lexer": "ipython3",
   "version": "3.10.9"
  }
 },
 "nbformat": 4,
 "nbformat_minor": 5
}

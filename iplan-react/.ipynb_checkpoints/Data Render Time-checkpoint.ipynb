{
 "cells": [
  {
   "cell_type": "markdown",
   "id": "3e32ae3e",
   "metadata": {},
   "source": [
    "## Flask"
   ]
  },
  {
   "cell_type": "code",
   "execution_count": 1,
   "id": "a07a5a08",
   "metadata": {},
   "outputs": [
    {
     "name": "stderr",
     "output_type": "stream",
     "text": [
      "C:\\Users\\nasreenn\\AppData\\Local\\anaconda3\\lib\\site-packages\\pandas\\core\\arrays\\masked.py:60: UserWarning: Pandas requires version '1.3.6' or newer of 'bottleneck' (version '1.3.5' currently installed).\n",
      "  from pandas.core import (\n"
     ]
    }
   ],
   "source": [
    "# Importing Libraries\n",
    "import os\n",
    "import sys\n",
    "import pyodbc\n",
    "import warnings\n",
    "import pythoncom\n",
    "import time\n",
    "import numpy as np\n",
    "import pandas as pd\n",
    "from flask import * \n",
    "from distutils.log import debug\n",
    "import win32com.client as win32\n",
    "warnings.filterwarnings('ignore')\n",
    "from werkzeug.utils import secure_filename\n",
    "from dateutil.relativedelta import relativedelta"
   ]
  },
  {
   "cell_type": "code",
   "execution_count": 2,
   "id": "a326e3d6",
   "metadata": {},
   "outputs": [],
   "source": [
    "app = Flask(__name__)"
   ]
  },
  {
   "cell_type": "code",
   "execution_count": 3,
   "id": "a726a67a",
   "metadata": {},
   "outputs": [],
   "source": [
    "# Route 1: For Index page\n",
    "@app.route('/')  \n",
    "def main():  \n",
    "    return render_template(\"index_flask.html\")"
   ]
  },
  {
   "cell_type": "code",
   "execution_count": 4,
   "id": "63d76496",
   "metadata": {},
   "outputs": [],
   "source": [
    "def success2():\n",
    "    DB = {'servername': 'AW02PSQLC007',\n",
    "          'database': 'India_GTSG'}\n",
    "    conn = pyodbc.connect('DRIVER={SQL Server}; SERVER=' + DB['servername'] + ';DATABASE=' + DB['database'] + ';Trusted_Connection=yes')\n",
    "    start_time = time.time()\n",
    "\n",
    "    # Query the database\n",
    "    cursor = conn.cursor()\n",
    "    cursor.execute(\"SELECT * FROM [India_GTSG].[dbo].[RFT_P6]\")\n",
    "    data = cursor.fetchall()\n",
    "    conn.close()\n",
    "\n",
    "    end_time = time.time()\n",
    "    return {\"rows_loaded\": len(data), \"time_taken\": end_time - start_time}\n",
    "\n",
    "# Route 1: For Index page\n",
    "@app.route('/transfer', methods=['GET', 'POST'])\n",
    "def transfer():\n",
    "    message = None\n",
    "    if request.method == 'POST':\n",
    "        # Call success2 and pass the result to the template\n",
    "        result = success2()\n",
    "        message = f\"Rows Loaded: {result['rows_loaded']}, Time Taken: {result['time_taken']:.2f} seconds\"\n",
    "    return render_template(\"index.html\", message=message)"
   ]
  },
  {
   "cell_type": "code",
   "execution_count": 5,
   "id": "4d786eaf",
   "metadata": {},
   "outputs": [
    {
     "name": "stdout",
     "output_type": "stream",
     "text": [
      " * Serving Flask app '__main__'\n",
      " * Debug mode: on\n"
     ]
    },
    {
     "name": "stderr",
     "output_type": "stream",
     "text": [
      "WARNING: This is a development server. Do not use it in a production deployment. Use a production WSGI server instead.\n",
      " * Running on all addresses (0.0.0.0)\n",
      " * Running on http://127.0.0.1:8443\n",
      " * Running on http://10.150.68.89:8443\n",
      "Press CTRL+C to quit\n"
     ]
    }
   ],
   "source": [
    "app.run(host = \"0.0.0.0\",port=8443, debug=True, use_reloader=False)"
   ]
  },
  {
   "cell_type": "markdown",
   "id": "dab25110",
   "metadata": {},
   "source": [
    "## FastAPI"
   ]
  },
  {
   "cell_type": "code",
   "execution_count": 3,
   "id": "d8a60ece",
   "metadata": {},
   "outputs": [],
   "source": [
    "import time\n",
    "from fastapi import FastAPI\n",
    "import pyodbc\n",
    "from typing import List"
   ]
  },
  {
   "cell_type": "code",
   "execution_count": 4,
   "id": "bdb4cabf",
   "metadata": {},
   "outputs": [],
   "source": [
    "from fastapi import FastAPI\n",
    "from fastapi.templating import Jinja2Templates\n",
    "from fastapi.responses import HTMLResponse\n",
    "from starlette.requests import Request"
   ]
  },
  {
   "cell_type": "code",
   "execution_count": 5,
   "id": "8d7bbf27",
   "metadata": {},
   "outputs": [],
   "source": [
    "app = FastAPI()"
   ]
  },
  {
   "cell_type": "code",
   "execution_count": 6,
   "id": "6df800a4",
   "metadata": {},
   "outputs": [],
   "source": [
    "templates = Jinja2Templates(directory=\"templates\")"
   ]
  },
  {
   "cell_type": "code",
   "execution_count": 10,
   "id": "2456a41d",
   "metadata": {},
   "outputs": [],
   "source": [
    "@app.get(\"/\", response_class=HTMLResponse)\n",
    "async def main(request: Request):\n",
    "    return templates.TemplateResponse(\"index.html\", {\"request\": request})"
   ]
  },
  {
   "cell_type": "code",
   "execution_count": 11,
   "id": "fff0f3ed",
   "metadata": {},
   "outputs": [],
   "source": [
    "def success2():\n",
    "    DB = {'servername': 'AW02PSQLC007',\n",
    "          'database': 'India_GTSG'}\n",
    "    conn = pyodbc.connect('DRIVER={SQL Server}; SERVER=' + DB['servername'] + ';DATABASE=' + DB['database'] + ';Trusted_Connection=yes')\n",
    "    start_time = time.time()\n",
    "\n",
    "    # Query the database\n",
    "    cursor = conn.cursor()\n",
    "    cursor.execute(\"SELECT * FROM [India_GTSG].[dbo].[RFT_P6]\")\n",
    "    data = cursor.fetchall()\n",
    "    conn.close()\n",
    "\n",
    "    end_time = time.time()\n",
    "    return {\"rows_loaded\": len(data), \"time_taken\": end_time - start_time}\n",
    "\n",
    "# Route for transfer (index page)\n",
    "@app.get(\"/transfer\", response_class=HTMLResponse)\n",
    "async def transfer(request: Request):\n",
    "    return templates.TemplateResponse(\"index.html\", {\"request\": request, \"message\": None})\n",
    "\n",
    "@app.post(\"/transfer\", response_class=HTMLResponse)\n",
    "async def transfer_post(request: Request):\n",
    "    result = success2()\n",
    "    message = f\"Rows Loaded: {result['rows_loaded']}, Time Taken: {result['time_taken']:.2f} seconds\"\n",
    "    return templates.TemplateResponse(\"index.html\", {\"request\": request, \"message\": message})"
   ]
  },
  {
   "cell_type": "code",
   "execution_count": null,
   "id": "ff21d265",
   "metadata": {
    "scrolled": true
   },
   "outputs": [
    {
     "name": "stderr",
     "output_type": "stream",
     "text": [
      "INFO:     Started server process [9312]\n",
      "INFO:     Waiting for application startup.\n",
      "INFO:     Application startup complete.\n",
      "INFO:     Uvicorn running on http://127.0.0.1:8000 (Press CTRL+C to quit)\n"
     ]
    },
    {
     "name": "stdout",
     "output_type": "stream",
     "text": [
      "INFO:     127.0.0.1:57918 - \"GET / HTTP/1.1\" 500 Internal Server Error\n"
     ]
    },
    {
     "name": "stderr",
     "output_type": "stream",
     "text": [
      "ERROR:    Exception in ASGI application\n",
      "Traceback (most recent call last):\n",
      "  File \"C:\\Users\\nasreenn\\AppData\\Local\\anaconda3\\lib\\site-packages\\uvicorn\\protocols\\http\\h11_impl.py\", line 404, in run_asgi\n",
      "    result = await app(  # type: ignore[func-returns-value]\n",
      "  File \"C:\\Users\\nasreenn\\AppData\\Local\\anaconda3\\lib\\site-packages\\uvicorn\\middleware\\proxy_headers.py\", line 78, in __call__\n",
      "    return await self.app(scope, receive, send)\n",
      "  File \"C:\\Users\\nasreenn\\AppData\\Local\\anaconda3\\lib\\site-packages\\fastapi\\applications.py\", line 269, in __call__\n",
      "    await super().__call__(scope, receive, send)\n",
      "  File \"C:\\Users\\nasreenn\\AppData\\Local\\anaconda3\\lib\\site-packages\\starlette\\applications.py\", line 124, in __call__\n",
      "    await self.middleware_stack(scope, receive, send)\n",
      "  File \"C:\\Users\\nasreenn\\AppData\\Local\\anaconda3\\lib\\site-packages\\starlette\\middleware\\errors.py\", line 184, in __call__\n",
      "    raise exc\n",
      "  File \"C:\\Users\\nasreenn\\AppData\\Local\\anaconda3\\lib\\site-packages\\starlette\\middleware\\errors.py\", line 162, in __call__\n",
      "    await self.app(scope, receive, _send)\n",
      "  File \"C:\\Users\\nasreenn\\AppData\\Local\\anaconda3\\lib\\site-packages\\starlette\\exceptions.py\", line 93, in __call__\n",
      "    raise exc\n",
      "  File \"C:\\Users\\nasreenn\\AppData\\Local\\anaconda3\\lib\\site-packages\\starlette\\exceptions.py\", line 82, in __call__\n",
      "    await self.app(scope, receive, sender)\n",
      "  File \"C:\\Users\\nasreenn\\AppData\\Local\\anaconda3\\lib\\site-packages\\fastapi\\middleware\\asyncexitstack.py\", line 21, in __call__\n",
      "    raise e\n",
      "  File \"C:\\Users\\nasreenn\\AppData\\Local\\anaconda3\\lib\\site-packages\\fastapi\\middleware\\asyncexitstack.py\", line 18, in __call__\n",
      "    await self.app(scope, receive, send)\n",
      "  File \"C:\\Users\\nasreenn\\AppData\\Local\\anaconda3\\lib\\site-packages\\starlette\\routing.py\", line 670, in __call__\n",
      "    await route.handle(scope, receive, send)\n",
      "  File \"C:\\Users\\nasreenn\\AppData\\Local\\anaconda3\\lib\\site-packages\\starlette\\routing.py\", line 266, in handle\n",
      "    await self.app(scope, receive, send)\n",
      "  File \"C:\\Users\\nasreenn\\AppData\\Local\\anaconda3\\lib\\site-packages\\starlette\\routing.py\", line 65, in app\n",
      "    response = await func(request)\n",
      "  File \"C:\\Users\\nasreenn\\AppData\\Local\\anaconda3\\lib\\site-packages\\fastapi\\routing.py\", line 227, in app\n",
      "    raw_response = await run_endpoint_function(\n",
      "  File \"C:\\Users\\nasreenn\\AppData\\Local\\anaconda3\\lib\\site-packages\\fastapi\\routing.py\", line 160, in run_endpoint_function\n",
      "    return await dependant.call(**values)\n",
      "  File \"C:\\Users\\nasreenn\\AppData\\Local\\Temp\\ipykernel_9312\\129462960.py\", line 3, in main\n",
      "    return templates.TemplateResponse(\"index.html\", {\"request\": request})\n",
      "  File \"C:\\Users\\nasreenn\\AppData\\Local\\anaconda3\\lib\\site-packages\\starlette\\templating.py\", line 97, in TemplateResponse\n",
      "    template = self.get_template(name)\n",
      "  File \"C:\\Users\\nasreenn\\AppData\\Local\\anaconda3\\lib\\site-packages\\starlette\\templating.py\", line 84, in get_template\n",
      "    return self.env.get_template(name)\n",
      "  File \"C:\\Users\\nasreenn\\AppData\\Local\\anaconda3\\lib\\site-packages\\jinja2\\environment.py\", line 1010, in get_template\n",
      "    return self._load_template(name, globals)\n",
      "  File \"C:\\Users\\nasreenn\\AppData\\Local\\anaconda3\\lib\\site-packages\\jinja2\\environment.py\", line 969, in _load_template\n",
      "    template = self.loader.load(self, name, self.make_globals(globals))\n",
      "  File \"C:\\Users\\nasreenn\\AppData\\Local\\anaconda3\\lib\\site-packages\\jinja2\\loaders.py\", line 126, in load\n",
      "    source, filename, uptodate = self.get_source(environment, name)\n",
      "  File \"C:\\Users\\nasreenn\\AppData\\Local\\anaconda3\\lib\\site-packages\\jinja2\\loaders.py\", line 218, in get_source\n",
      "    raise TemplateNotFound(template)\n",
      "jinja2.exceptions.TemplateNotFound: index.html\n"
     ]
    }
   ],
   "source": [
    "import nest_asyncio\n",
    "import uvicorn\n",
    "\n",
    "if __name__ == \"__main__\":\n",
    "    nest_asyncio.apply()\n",
    "    uvicorn.run(app)"
   ]
  },
  {
   "cell_type": "markdown",
   "id": "3999eb12",
   "metadata": {},
   "source": [
    "## Django"
   ]
  },
  {
   "cell_type": "code",
   "execution_count": null,
   "id": "8640c505",
   "metadata": {},
   "outputs": [],
   "source": []
  },
  {
   "cell_type": "code",
   "execution_count": 18,
   "id": "9da353d3",
   "metadata": {},
   "outputs": [],
   "source": [
    "from django.shortcuts import render\n",
    "import pyodbc\n",
    "import time"
   ]
  },
  {
   "cell_type": "code",
   "execution_count": 19,
   "id": "f060c626",
   "metadata": {},
   "outputs": [],
   "source": [
    "def success2():\n",
    "    DB = {'servername': 'AW02PSQLC007',\n",
    "          'database': 'India_GTSG'}\n",
    "    conn = pyodbc.connect('DRIVER={SQL Server}; SERVER=' + DB['servername'] + ';DATABASE=' + DB['database'] + ';Trusted_Connection=yes')\n",
    "    start_time = time.time()\n",
    "\n",
    "    # Query the database\n",
    "    cursor = conn.cursor()\n",
    "    cursor.execute(\"SELECT * FROM [India_GTSG].[dbo].[RFT_P6]\")\n",
    "    data = cursor.fetchall()\n",
    "    conn.close()\n",
    "\n",
    "    end_time = time.time()\n",
    "    return {\"rows_loaded\": len(data), \"time_taken\": end_time - start_time}\n",
    "\n",
    "def transfer(request):\n",
    "    message = None\n",
    "    if request.method == 'POST':\n",
    "        result = success2()\n",
    "        message = f\"Rows Loaded: {result['rows_loaded']}, Time Taken: {result['time_taken']:.2f} seconds\"\n",
    "    return render(request, 'index.html', {'message': message})\n"
   ]
  },
  {
   "cell_type": "code",
   "execution_count": null,
   "id": "6d3a40b1",
   "metadata": {},
   "outputs": [],
   "source": []
  }
 ],
 "metadata": {
  "kernelspec": {
   "display_name": "Python 3 (ipykernel)",
   "language": "python",
   "name": "python3"
  },
  "language_info": {
   "codemirror_mode": {
    "name": "ipython",
    "version": 3
   },
   "file_extension": ".py",
   "mimetype": "text/x-python",
   "name": "python",
   "nbconvert_exporter": "python",
   "pygments_lexer": "ipython3",
   "version": "3.10.9"
  }
 },
 "nbformat": 4,
 "nbformat_minor": 5
}
